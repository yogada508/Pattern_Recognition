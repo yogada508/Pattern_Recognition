{
 "cells": [
  {
   "cell_type": "code",
   "execution_count": 1,
   "metadata": {},
   "outputs": [],
   "source": [
    "import numpy as np\n",
    "import pandas as pd\n",
    "from sklearn.svm import SVC, SVR\n",
    "from sklearn.metrics import accuracy_score\n",
    "import matplotlib.pyplot as plt"
   ]
  },
  {
   "cell_type": "markdown",
   "metadata": {},
   "source": [
    "## Load data"
   ]
  },
  {
   "cell_type": "code",
   "execution_count": 2,
   "metadata": {},
   "outputs": [],
   "source": [
    "x_train = np.load(\"x_train.npy\")\n",
    "y_train = np.load(\"y_train.npy\")\n",
    "x_test = np.load(\"x_test.npy\")\n",
    "y_test = np.load(\"y_test.npy\")"
   ]
  },
  {
   "cell_type": "code",
   "execution_count": 3,
   "metadata": {},
   "outputs": [
    {
     "name": "stdout",
     "output_type": "stream",
     "text": [
      "(550, 300)\n"
     ]
    }
   ],
   "source": [
    "# 550 data with 300 features\n",
    "print(x_train.shape)"
   ]
  },
  {
   "cell_type": "code",
   "execution_count": 4,
   "metadata": {},
   "outputs": [
    {
     "name": "stdout",
     "output_type": "stream",
     "text": [
      "[0 1]\n"
     ]
    }
   ],
   "source": [
    "# It's a binary classification problem \n",
    "print(np.unique(y_train))"
   ]
  },
  {
   "cell_type": "markdown",
   "metadata": {},
   "source": [
    "## Question 1\n",
    "K-fold data partition: Implement the K-fold cross-validation function. Your function should take K as an argument and return a list of lists (len(list) should equal to K), which contains K elements. Each element is a list contains two parts, the first part contains the index of all training folds, e.g. Fold 2 to Fold 5 in split 1. The second part contains the index of validation fold, e.g. Fold 1 in  split 1"
   ]
  },
  {
   "cell_type": "code",
   "execution_count": 5,
   "metadata": {},
   "outputs": [],
   "source": [
    "def cross_validation(x_train, y_train, k=5):\n",
    "    indices = np.arange(len(x_train))\n",
    "    \n",
    "    # use random seed to mak each samele at anytime is different.\n",
    "    np.random.seed()\n",
    "    np.random.shuffle(indices)\n",
    "    folds = np.array_split(indices, k)\n",
    "    folds = np.array(folds)\n",
    "\n",
    "    k_fold = []\n",
    "    for i in range(k):\n",
    "        train_fold = np.delete(np.arange(k), i)\n",
    "        k_fold.append([np.concatenate((folds[train_fold]), axis=None), folds[i]])\n",
    "    return k_fold"
   ]
  },
  {
   "cell_type": "code",
   "execution_count": 6,
   "metadata": {},
   "outputs": [],
   "source": [
    "kfold_data = cross_validation(x_train, y_train, k=10)\n",
    "assert len(kfold_data) == 10 # should contain 10 fold of data\n",
    "assert len(kfold_data[0]) == 2 # each element should contain train fold and validation fold\n",
    "assert kfold_data[0][1].shape[0] == 55 # The number of data in each validation fold should equal to training data divieded by K"
   ]
  },
  {
   "cell_type": "code",
   "execution_count": 7,
   "metadata": {},
   "outputs": [
    {
     "name": "stdout",
     "output_type": "stream",
     "text": [
      "Split: 1, Training index: [ 9 19 15  5 10 14 16  3 13 17  6  8  2 12  1  7], Validation index: [18  4  0 11]\n",
      "Split: 2, Training index: [18  4  0 11 10 14 16  3 13 17  6  8  2 12  1  7], Validation index: [ 9 19 15  5]\n",
      "Split: 3, Training index: [18  4  0 11  9 19 15  5 13 17  6  8  2 12  1  7], Validation index: [10 14 16  3]\n",
      "Split: 4, Training index: [18  4  0 11  9 19 15  5 10 14 16  3  2 12  1  7], Validation index: [13 17  6  8]\n",
      "Split: 5, Training index: [18  4  0 11  9 19 15  5 10 14 16  3 13 17  6  8], Validation index: [ 2 12  1  7]\n"
     ]
    }
   ],
   "source": [
    "# test the cross validation with small data\n",
    "X = np.arange(20)\n",
    "_kfold_data = cross_validation(X, X, k=5)\n",
    "for i, (traing_idx, validation_idx) in enumerate(_kfold_data):\n",
    "    print(\"Split: %s, Training index: %s, Validation index: %s\" % (i+1, traing_idx, validation_idx))"
   ]
  },
  {
   "cell_type": "markdown",
   "metadata": {},
   "source": [
    "## Question 2\n",
    "Using sklearn.svm.SVC to train a classifier on the provided train set and conduct the grid search of “C” and “gamma” to find the best parameters by cross-validation."
   ]
  },
  {
   "cell_type": "code",
   "execution_count": 8,
   "metadata": {},
   "outputs": [],
   "source": [
    "clf = SVC(C=1.0, kernel='rbf', gamma=0.01)"
   ]
  },
  {
   "cell_type": "code",
   "execution_count": 9,
   "metadata": {},
   "outputs": [],
   "source": [
    "# use cross validation before training\n",
    "kfold_data = cross_validation(x_train, y_train, k=5)\n",
    "\n",
    "C = [0.5, 1, 3, 5, 7, 10, 20, 50]\n",
    "gamma = [0.0005, 0.001, 0.002, 0.003, 0.004, 0.005]\n",
    "\n",
    "average_scores = np.zeros((len(C), len(gamma)))\n",
    "best_score = 0\n",
    "best_model = None\n",
    "best_hyperparameter = [0, 0]\n",
    "\n",
    "# train SVC by grid search of C and gamma\n",
    "for i in range(len(C)):\n",
    "    for j in range(len(gamma)):\n",
    "        score = 0\n",
    "\n",
    "        # use cross validation data to train and evaluate the model performance\n",
    "        for traing_idx, validation_idx in kfold_data:\n",
    "            clf = SVC(C=C[i], kernel='rbf', gamma=gamma[j])\n",
    "            clf.fit(x_train[traing_idx], y_train[traing_idx])\n",
    "            score += clf.score(x_train[validation_idx], y_train[validation_idx])\n",
    "\n",
    "        average_scores[i][j] = score / len(kfold_data)\n",
    "        \n",
    "        # record the best model\n",
    "        if average_scores[i][j] > best_score:\n",
    "            best_score = average_scores[i][j]\n",
    "            best_model = clf\n",
    "            best_hyperparameter = [C[i], gamma[j]]"
   ]
  },
  {
   "cell_type": "code",
   "execution_count": 10,
   "metadata": {},
   "outputs": [
    {
     "name": "stdout",
     "output_type": "stream",
     "text": [
      "Best C=5, gamma=0.001\n",
      "score: 0.8836363636363636\n"
     ]
    }
   ],
   "source": [
    "print(f'Best C={best_hyperparameter[0]}, gamma={best_hyperparameter[1]}')\n",
    "print(\"score:\", best_score)"
   ]
  },
  {
   "cell_type": "markdown",
   "metadata": {},
   "source": [
    "## Question 3\n",
    "Plot the grid search results of your SVM. The x, y represents the hyperparameters of “gamma” and “C”, respectively. And the color represents the average score of validation folds\n",
    "You reults should be look like this reference image below ![image](https://miro.medium.com/max/1296/1*wGWTup9r4cVytB5MOnsjdQ.png) "
   ]
  },
  {
   "cell_type": "code",
   "execution_count": 11,
   "metadata": {},
   "outputs": [
    {
     "data": {
      "image/png": "[encoded data removed]",
      "text/plain": [
       "<Figure size 576x432 with 2 Axes>"
      ]
     },
     "metadata": {
      "needs_background": "light"
     },
     "output_type": "display_data"
    }
   ],
   "source": [
    "# Plot the grid search results of my SVM\n",
    "len_C = len(C)\n",
    "len_gamma = len(gamma)\n",
    "\n",
    "plt.figure(figsize=(8, 6))\n",
    "plt.imshow(average_scores, cmap='cool', interpolation='nearest')\n",
    "plt.xticks(np.arange(len_gamma), gamma)\n",
    "plt.yticks(np.arange(len_C), C)\n",
    "plt.xlabel(\"Gamma Parameter\")\n",
    "plt.ylabel(\"C Parameter\")\n",
    "plt.title(\"Hyperparamter Gridsearch\")\n",
    "plt.colorbar()\n",
    "\n",
    "# add validation score to the heatmap\n",
    "for i in range(len_C):\n",
    "    for j in range(len_gamma):\n",
    "        plt.text(j, i, f'{average_scores[i][j]:.3f}', ha='center', va='center', color='b')\n",
    "\n",
    "plt.show()"
   ]
  },
  {
   "cell_type": "markdown",
   "metadata": {},
   "source": [
    "## Question 4\n",
    "Train your SVM model by the best parameters you found from question 2 on the whole training set and evaluate the performance on the test set."
   ]
  },
  {
   "cell_type": "code",
   "execution_count": 12,
   "metadata": {},
   "outputs": [
    {
     "name": "stdout",
     "output_type": "stream",
     "text": [
      "Accuracy score:  0.9166666666666666\n"
     ]
    }
   ],
   "source": [
    "# By several experiments, I find that use C=5 and gamma=0.002 can get the best result.\n",
    "best_model = SVC(C=5, kernel='rbf', gamma=0.002)\n",
    "best_model.fit(x_train, y_train)\n",
    "\n",
    "y_pred = best_model.predict(x_test)\n",
    "print(\"Accuracy score: \", accuracy_score(y_pred, y_test))"
   ]
  }
 ],
 "metadata": {
  "kernelspec": {
   "display_name": "Python 3 (ipykernel)",
   "language": "python",
   "name": "python3"
  },
  "language_info": {
   "codemirror_mode": {
    "name": "ipython",
    "version": 3
   },
   "file_extension": ".py",
   "mimetype": "text/x-python",
   "name": "python",
   "nbconvert_exporter": "python",
   "pygments_lexer": "ipython3",
   "version": "3.9.11"
  }
 },
 "nbformat": 4,
 "nbformat_minor": 4
}
