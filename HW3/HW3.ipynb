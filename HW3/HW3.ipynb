{
 "cells": [
  {
   "cell_type": "markdown",
   "metadata": {},
   "source": [
    "## HW3: Decision Tree, AdaBoost and Random Forest\n",
    "In hw3, you need to implement decision tree, adaboost and random forest by using only numpy, then train your implemented model by the provided dataset and test the performance with testing data\n",
    "\n",
    "Please note that only **NUMPY** can be used to implement your model, you will get no points by simply calling sklearn.tree.DecisionTreeClassifier"
   ]
  },
  {
   "cell_type": "markdown",
   "metadata": {},
   "source": [
    "## Load data\n",
    "The dataset is the Heart Disease Data Set from UCI Machine Learning Repository. It is a binary classifiation dataset, the label is stored in `target` column. **Please note that there exist categorical features which need to be [one-hot encoding](https://www.datacamp.com/community/tutorials/categorical-data) before fit into your model!**\n",
    "See follow links for more information\n",
    "https://archive.ics.uci.edu/ml/datasets/heart+Disease"
   ]
  },
  {
   "cell_type": "code",
   "execution_count": 1,
   "metadata": {},
   "outputs": [],
   "source": [
    "import pandas as pd\n",
    "import numpy as np\n",
    "from sklearn.metrics import accuracy_score\n",
    "import matplotlib.pyplot as plt\n",
    "\n",
    "file_url = \"http://storage.googleapis.com/download.tensorflow.org/data/heart.csv\"\n",
    "df = pd.read_csv(file_url)\n",
    "\n",
    "train_idx = np.load('train_idx.npy')\n",
    "test_idx = np.load('test_idx.npy')\n",
    "\n",
    "train_df = df.iloc[train_idx]\n",
    "test_df = df.iloc[test_idx]\n",
    "\n",
    "# remove the noise data\n",
    "train_df = train_df[train_df[\"cp\"].isin([1, 2, 3, 4])]\n",
    "train_df = train_df[train_df[\"thal\"].isin([\"normal\", \"fixed\", \"reversible\"])]\n",
    "test_df = test_df[test_df[\"cp\"].isin([1, 2, 3, 4])]\n",
    "test_df = test_df[test_df[\"thal\"].isin([\"normal\", \"fixed\", \"reversible\"])]\n",
    "\n",
    "# one hot encoding for \"thal\" field\n",
    "thal_encoded = pd.get_dummies(train_df[\"thal\"], prefix=\"thal\")\n",
    "train_df = train_df.drop(columns=\"thal\")\n",
    "train_df = pd.concat([train_df.iloc[:, 0:-1], thal_encoded, train_df.iloc[:, -1]], axis=1)\n",
    "thal_encoded = pd.get_dummies(test_df[\"thal\"], prefix=\"thal\")\n",
    "test_df = test_df.drop(columns=\"thal\")\n",
    "test_df = pd.concat([test_df.iloc[:, 0:-1], thal_encoded, test_df.iloc[:, -1]], axis=1)\n"
   ]
  },
  {
   "cell_type": "code",
   "execution_count": 22,
   "metadata": {},
   "outputs": [
    {
     "data": {
      "text/html": [
       "<div>\n",
       "<style scoped>\n",
       "    .dataframe tbody tr th:only-of-type {\n",
       "        vertical-align: middle;\n",
       "    }\n",
       "\n",
       "    .dataframe tbody tr th {\n",
       "        vertical-align: top;\n",
       "    }\n",
       "\n",
       "    .dataframe thead th {\n",
       "        text-align: right;\n",
       "    }\n",
       "</style>\n",
       "<table border=\"1\" class=\"dataframe\">\n",
       "  <thead>\n",
       "    <tr style=\"text-align: right;\">\n",
       "      <th></th>\n",
       "      <th>age</th>\n",
       "      <th>sex</th>\n",
       "      <th>cp</th>\n",
       "      <th>trestbps</th>\n",
       "      <th>chol</th>\n",
       "      <th>fbs</th>\n",
       "      <th>restecg</th>\n",
       "      <th>thalach</th>\n",
       "      <th>exang</th>\n",
       "      <th>oldpeak</th>\n",
       "      <th>slope</th>\n",
       "      <th>ca</th>\n",
       "      <th>thal_fixed</th>\n",
       "      <th>thal_normal</th>\n",
       "      <th>thal_reversible</th>\n",
       "      <th>target</th>\n",
       "    </tr>\n",
       "  </thead>\n",
       "  <tbody>\n",
       "    <tr>\n",
       "      <td>264</td>\n",
       "      <td>44</td>\n",
       "      <td>1</td>\n",
       "      <td>4</td>\n",
       "      <td>112</td>\n",
       "      <td>290</td>\n",
       "      <td>0</td>\n",
       "      <td>2</td>\n",
       "      <td>153</td>\n",
       "      <td>0</td>\n",
       "      <td>0.0</td>\n",
       "      <td>1</td>\n",
       "      <td>1</td>\n",
       "      <td>0</td>\n",
       "      <td>1</td>\n",
       "      <td>0</td>\n",
       "      <td>1</td>\n",
       "    </tr>\n",
       "    <tr>\n",
       "      <td>140</td>\n",
       "      <td>62</td>\n",
       "      <td>0</td>\n",
       "      <td>4</td>\n",
       "      <td>138</td>\n",
       "      <td>294</td>\n",
       "      <td>1</td>\n",
       "      <td>0</td>\n",
       "      <td>106</td>\n",
       "      <td>0</td>\n",
       "      <td>1.9</td>\n",
       "      <td>2</td>\n",
       "      <td>3</td>\n",
       "      <td>0</td>\n",
       "      <td>1</td>\n",
       "      <td>0</td>\n",
       "      <td>1</td>\n",
       "    </tr>\n",
       "    <tr>\n",
       "      <td>104</td>\n",
       "      <td>70</td>\n",
       "      <td>1</td>\n",
       "      <td>4</td>\n",
       "      <td>130</td>\n",
       "      <td>322</td>\n",
       "      <td>0</td>\n",
       "      <td>2</td>\n",
       "      <td>109</td>\n",
       "      <td>0</td>\n",
       "      <td>2.4</td>\n",
       "      <td>2</td>\n",
       "      <td>3</td>\n",
       "      <td>0</td>\n",
       "      <td>1</td>\n",
       "      <td>0</td>\n",
       "      <td>0</td>\n",
       "    </tr>\n",
       "    <tr>\n",
       "      <td>290</td>\n",
       "      <td>49</td>\n",
       "      <td>1</td>\n",
       "      <td>3</td>\n",
       "      <td>120</td>\n",
       "      <td>188</td>\n",
       "      <td>0</td>\n",
       "      <td>0</td>\n",
       "      <td>139</td>\n",
       "      <td>0</td>\n",
       "      <td>2.0</td>\n",
       "      <td>2</td>\n",
       "      <td>3</td>\n",
       "      <td>0</td>\n",
       "      <td>0</td>\n",
       "      <td>1</td>\n",
       "      <td>1</td>\n",
       "    </tr>\n",
       "    <tr>\n",
       "      <td>262</td>\n",
       "      <td>41</td>\n",
       "      <td>0</td>\n",
       "      <td>2</td>\n",
       "      <td>105</td>\n",
       "      <td>198</td>\n",
       "      <td>0</td>\n",
       "      <td>0</td>\n",
       "      <td>168</td>\n",
       "      <td>0</td>\n",
       "      <td>0.0</td>\n",
       "      <td>1</td>\n",
       "      <td>1</td>\n",
       "      <td>0</td>\n",
       "      <td>1</td>\n",
       "      <td>0</td>\n",
       "      <td>0</td>\n",
       "    </tr>\n",
       "  </tbody>\n",
       "</table>\n",
       "</div>"
      ],
      "text/plain": [
       "     age  sex  cp  trestbps  chol  fbs  restecg  thalach  exang  oldpeak  \\\n",
       "264   44    1   4       112   290    0        2      153      0      0.0   \n",
       "140   62    0   4       138   294    1        0      106      0      1.9   \n",
       "104   70    1   4       130   322    0        2      109      0      2.4   \n",
       "290   49    1   3       120   188    0        0      139      0      2.0   \n",
       "262   41    0   2       105   198    0        0      168      0      0.0   \n",
       "\n",
       "     slope  ca  thal_fixed  thal_normal  thal_reversible  target  \n",
       "264      1   1           0            1                0       1  \n",
       "140      2   3           0            1                0       1  \n",
       "104      2   3           0            1                0       0  \n",
       "290      2   3           0            0                1       1  \n",
       "262      1   1           0            1                0       0  "
      ]
     },
     "execution_count": 22,
     "metadata": {},
     "output_type": "execute_result"
    }
   ],
   "source": [
    "train_df.head()"
   ]
  },
  {
   "cell_type": "code",
   "execution_count": 2,
   "metadata": {},
   "outputs": [],
   "source": [
    "X_train = train_df.iloc[:, 0:-1]#.to_numpy()\n",
    "y_train = train_df.iloc[:, -1]#.to_numpy()\n",
    "X_test = test_df.iloc[:, 0:-1]#.to_numpy()\n",
    "y_test = test_df.iloc[:, -1]#.to_numpy()"
   ]
  },
  {
   "cell_type": "code",
   "execution_count": 69,
   "metadata": {},
   "outputs": [
    {
     "data": {
      "text/plain": [
       "Index(['age', 'sex', 'cp', 'trestbps', 'chol', 'fbs', 'restecg', 'thalach',\n",
       "       'exang', 'oldpeak', 'slope', 'ca', 'thal_fixed', 'thal_normal',\n",
       "       'thal_reversible'],\n",
       "      dtype='object')"
      ]
     },
     "execution_count": 69,
     "metadata": {},
     "output_type": "execute_result"
    }
   ],
   "source": [
    "X_train.columns\n",
    "#y_train[a]"
   ]
  },
  {
   "cell_type": "markdown",
   "metadata": {},
   "source": [
    "## Question 1\n",
    "Gini Index or Entropy is often used for measuring the “best” splitting of the data. Please compute the Entropy and Gini Index of provided data. Please use the formula from [page 5 of hw3 slides](https://docs.google.com/presentation/d/1kIe_-YZdemRMmr_3xDy-l0OS2EcLgDH7Uan14tlU5KE/edit#slide=id.gd542a5ff75_0_15)"
   ]
  },
  {
   "cell_type": "code",
   "execution_count": 3,
   "metadata": {},
   "outputs": [],
   "source": [
    "def gini(sequence):\n",
    "    information = 0\n",
    "    values, counts = np.unique(sequence, return_counts=True)\n",
    "    for count in counts:\n",
    "        information += (count / len(sequence))**2\n",
    "    return 1 - information\n",
    "\n",
    "def entropy(sequence):\n",
    "    information = 0\n",
    "    values, counts = np.unique(sequence, return_counts=True)\n",
    "    for count in counts:\n",
    "        information += -(count / len(sequence)) * np.log2(count / len(sequence))\n",
    "    return information"
   ]
  },
  {
   "cell_type": "code",
   "execution_count": 4,
   "metadata": {},
   "outputs": [],
   "source": [
    "# 1 = class 1,\n",
    "# 2 = class 2\n",
    "data = np.array([1,2,1,1,1,1,2,2,1,1,2])"
   ]
  },
  {
   "cell_type": "code",
   "execution_count": 5,
   "metadata": {},
   "outputs": [
    {
     "name": "stdout",
     "output_type": "stream",
     "text": [
      "Gini of data is  0.4628099173553719\n"
     ]
    }
   ],
   "source": [
    "print(\"Gini of data is \", gini(data))"
   ]
  },
  {
   "cell_type": "code",
   "execution_count": 6,
   "metadata": {},
   "outputs": [
    {
     "name": "stdout",
     "output_type": "stream",
     "text": [
      "Entropy of data is  0.9456603046006401\n"
     ]
    }
   ],
   "source": [
    "print(\"Entropy of data is \", entropy(data))"
   ]
  },
  {
   "cell_type": "markdown",
   "metadata": {},
   "source": [
    "## Question 2\n",
    "Implement the Decision Tree algorithm (CART, Classification and Regression Trees) and trained the model by the given arguments, and print the accuracy score on the test data. You should implement two arguments for the Decision Tree algorithm\n",
    "1. **criterion**: The function to measure the quality of a split. Your model should support `gini` for the Gini impurity and `entropy` for the information gain. \n",
    "2. **max_depth**: The maximum depth of the tree. If `max_depth=None`, then nodes are expanded until all leaves are pure. `max_depth=1` equals to split data once\n"
   ]
  },
  {
   "cell_type": "code",
   "execution_count": 7,
   "metadata": {},
   "outputs": [],
   "source": [
    "class Node:\n",
    "    def __init__(self, predicted_result, depth=None):\n",
    "        self.predicted_result = predicted_result\n",
    "        self.attribute = ''\n",
    "        self.threshold = 0\n",
    "        self.left_node = None\n",
    "        self.right_node = None\n",
    "        self.depth = depth"
   ]
  },
  {
   "cell_type": "code",
   "execution_count": 8,
   "metadata": {},
   "outputs": [],
   "source": [
    "class DecisionTree():\n",
    "    def __init__(self, criterion='gini', max_depth=None):\n",
    "        self.criterion = criterion\n",
    "        self.max_depth = max_depth\n",
    "\n",
    "    def split_attribute(self, X, y):\n",
    "        best_attribute = None\n",
    "        best_threshold = None\n",
    "\n",
    "        # calculate the information before split\n",
    "        if self.criterion == 'gini':\n",
    "            min_info = gini(y.to_numpy())\n",
    "        else:\n",
    "            min_info = entropy(y.to_numpy())\n",
    "\n",
    "        # iterate each attribute in training data\n",
    "        for attribute in X.columns:\n",
    "            data = pd.concat([X, y], axis=1)\n",
    "            sorted_data = data.sort_values(by=[attribute])\n",
    "            threshold = np.unique(sorted_data[attribute])\n",
    "\n",
    "            for i in range(1, len(threshold)):\n",
    "                # split data by threshold\n",
    "                left_data = sorted_data[sorted_data[attribute] < threshold[i]]\n",
    "                right_data = sorted_data[sorted_data[attribute] >= threshold[i]]\n",
    "                left_probability = len(left_data) / len(sorted_data)\n",
    "                right_probability = len(right_data) / len(sorted_data)\n",
    "\n",
    "                # get the information of left branch and right branch\n",
    "                if self.criterion == 'gini':\n",
    "                    left_info = gini(left_data.iloc[:, -1])\n",
    "                    right_info = gini(right_data.iloc[:, -1])\n",
    "\n",
    "                else:\n",
    "                    left_info = gini(left_data.iloc[:, -1])\n",
    "                    right_info = gini(right_data.iloc[:, -1])\n",
    "\n",
    "                total_info = left_probability*left_info + right_probability*right_info\n",
    "                \n",
    "                # update the minimum information after split\n",
    "                if total_info < min_info:\n",
    "                    min_info = total_info\n",
    "                    best_attribute = attribute\n",
    "                    best_threshold = threshold[i]\n",
    "        \n",
    "        return best_attribute, best_threshold\n",
    "\n",
    "    def generate_tree(self, X, y, depth=0):\n",
    "        # assign the most frequent value in y to the current node's predicted result\n",
    "        predicated_result = y.mode()[0]\n",
    "        node = Node(predicated_result, depth)\n",
    "\n",
    "        if self.max_depth is None or node.depth < self.max_depth:\n",
    "            attribute, threshold = self.split_attribute(X, y)\n",
    "\n",
    "            # split the node\n",
    "            if attribute and threshold:\n",
    "                self.feature_importance[X.columns.get_loc(attribute)] += 1\n",
    "\n",
    "                X_left = X[X[attribute] < threshold]\n",
    "                y_left = y[X_left.index]\n",
    "                X_right = X[X[attribute] >= threshold]\n",
    "                y_right = y[X_right.index]\n",
    "\n",
    "                node.attribute = attribute\n",
    "                node.threshold = threshold\n",
    "\n",
    "                # recursively bulid the subtree\n",
    "                node.left_node = self.generate_tree(X_left, y_left, depth+1)\n",
    "                node.right_node = self.generate_tree(X_right, y_right, depth+1)\n",
    "        \n",
    "        return node\n",
    "\n",
    "    def fit(self, X, y):\n",
    "        self.feature_importance = np.zeros(len(X.columns))\n",
    "        self.root_node = self.generate_tree(X, y)\n",
    "\n",
    "    def predict(self, X):\n",
    "        predictions = []\n",
    "\n",
    "        # predict the result row by row\n",
    "        for i in range(len(X)):\n",
    "            node = self.root_node\n",
    "\n",
    "            # stop when the current node is leaf-node\n",
    "            while node.left_node:\n",
    "                if X.iloc[i][node.attribute] < node.threshold:\n",
    "                    node = node.left_node\n",
    "                else:\n",
    "                    node = node.right_node\n",
    "\n",
    "            predictions.append(node.predicted_result)\n",
    "\n",
    "        return np.array(predictions)"
   ]
  },
  {
   "cell_type": "code",
   "execution_count": 105,
   "metadata": {},
   "outputs": [],
   "source": [
    "clf_depth3 = DecisionTree(criterion='gini', max_depth=3)\n",
    "clf_depth3.fit(X_train, y_train)"
   ]
  },
  {
   "cell_type": "markdown",
   "metadata": {},
   "source": [
    "### Question 2.1\n",
    "Using `criterion=gini`, showing the accuracy score of test data by `max_depth=3` and `max_depth=10`, respectively.\n"
   ]
  },
  {
   "cell_type": "code",
   "execution_count": 14,
   "metadata": {},
   "outputs": [],
   "source": [
    "clf_depth3 = DecisionTree(criterion='gini', max_depth=3)\n",
    "clf_depth10 = DecisionTree(criterion='gini', max_depth=10)"
   ]
  },
  {
   "cell_type": "code",
   "execution_count": 15,
   "metadata": {},
   "outputs": [
    {
     "name": "stdout",
     "output_type": "stream",
     "text": [
      "criterion=gini, max_depth=3, accuracy: 0.7835051546391752\n",
      "criterion=gini, max_depth=10, accuracy: 0.865979381443299\n"
     ]
    }
   ],
   "source": [
    "clf_depth3.fit(X_train, y_train)\n",
    "print(\"criterion=gini, max_depth=3, accuracy:\", accuracy_score(clf_depth3.predict(X_test), y_test))\n",
    "\n",
    "clf_depth10.fit(X_train, y_train)\n",
    "print(\"criterion=gini, max_depth=10, accuracy:\", accuracy_score(clf_depth10.predict(X_test), y_test))"
   ]
  },
  {
   "cell_type": "markdown",
   "metadata": {},
   "source": [
    "### Question 2.2\n",
    "Using `max_depth=3`, showing the accuracy score of test data by `criterion=gini` and `criterion=entropy`, respectively.\n"
   ]
  },
  {
   "cell_type": "code",
   "execution_count": 173,
   "metadata": {},
   "outputs": [],
   "source": [
    "clf_gini = DecisionTree(criterion='gini', max_depth=3)\n",
    "clf_entropy = DecisionTree(criterion='entropy', max_depth=3)"
   ]
  },
  {
   "cell_type": "code",
   "execution_count": 174,
   "metadata": {},
   "outputs": [
    {
     "name": "stdout",
     "output_type": "stream",
     "text": [
      "criterion=gini, max_depth=3, accuracy: 0.7835051546391752\n",
      "criterion=entropy, max_depth=3, accuracy: 0.7835051546391752\n"
     ]
    }
   ],
   "source": [
    "clf_gini.fit(X_train, y_train)\n",
    "print(\"criterion=gini, max_depth=3, accuracy:\", accuracy_score(clf_gini.predict(X_test), y_test))\n",
    "\n",
    "clf_entropy.fit(X_train, y_train)\n",
    "print(\"criterion=entropy, max_depth=3, accuracy:\", accuracy_score(clf_entropy.predict(X_test), y_test))"
   ]
  },
  {
   "cell_type": "markdown",
   "metadata": {},
   "source": [
    "- Note: All of your accuracy scores should over **0.7**\n",
    "- Note: You should get the same results when re-building the model with the same arguments,  no need to prune the trees\n",
    "- Hint: You can use the recursive method to build the nodes\n"
   ]
  },
  {
   "cell_type": "markdown",
   "metadata": {},
   "source": [
    "## Question 3\n",
    "Plot the [feature importance](https://sefiks.com/2020/04/06/feature-importance-in-decision-trees/) of your Decision Tree model. You can get the feature importance by counting the feature used for splitting data.\n",
    "\n",
    "- You can simply plot the **counts of feature used** for building tree without normalize the importance. Take the figure below as example, outlook feature has been used for splitting for almost 50 times. Therefore, it has the largest importance\n",
    "\n",
    "![image](https://i2.wp.com/sefiks.com/wp-content/uploads/2020/04/c45-fi-results.jpg?w=481&ssl=1)"
   ]
  },
  {
   "cell_type": "code",
   "execution_count": 13,
   "metadata": {},
   "outputs": [
    {
     "data": {
      "text/plain": [
       "<BarContainer object of 15 artists>"
      ]
     },
     "execution_count": 13,
     "metadata": {},
     "output_type": "execute_result"
    },
    {
     "data": {
      "image/png": "[encoded data removed]",
      "text/plain": [
       "<Figure size 432x288 with 1 Axes>"
      ]
     },
     "metadata": {
      "needs_background": "light"
     },
     "output_type": "display_data"
    }
   ],
   "source": [
    "plt.title(\"Feature importance (Q2.1)\")\n",
    "plt.barh(X_train.columns, clf_depth10.feature_importance)"
   ]
  },
  {
   "cell_type": "markdown",
   "metadata": {},
   "source": [
    "## Question 4\n",
    "implement the AdaBooest algorithm by using the CART you just implemented from question 2 as base learner. You should implement one arguments for the AdaBooest.\n",
    "1. **n_estimators**: The maximum number of estimators at which boosting is terminated"
   ]
  },
  {
   "cell_type": "code",
   "execution_count": 343,
   "metadata": {},
   "outputs": [],
   "source": [
    "class AdaBoost():\n",
    "    def __init__(self, n_estimators):\n",
    "        return None"
   ]
  },
  {
   "cell_type": "code",
   "execution_count": null,
   "metadata": {},
   "outputs": [],
   "source": []
  },
  {
   "cell_type": "markdown",
   "metadata": {},
   "source": [
    "### Question 4.1\n",
    "Show the accuracy score of test data by `n_estimators=10` and `n_estimators=100`, respectively.\n"
   ]
  },
  {
   "cell_type": "code",
   "execution_count": null,
   "metadata": {},
   "outputs": [],
   "source": []
  },
  {
   "cell_type": "markdown",
   "metadata": {},
   "source": [
    "## Question 5\n",
    "implement the Random Forest algorithm by using the CART you just implemented from question 2. You should implement three arguments for the Random Forest.\n",
    "\n",
    "1. **n_estimators**: The number of trees in the forest. \n",
    "2. **max_features**: The number of random select features to consider when looking for the best split\n",
    "3. **bootstrap**: Whether bootstrap samples are used when building tree\n"
   ]
  },
  {
   "cell_type": "code",
   "execution_count": 175,
   "metadata": {},
   "outputs": [],
   "source": [
    "class RandomForest():\n",
    "    def __init__(self, n_estimators, max_features, bootstrap=True):\n",
    "        self.n_estimators = n_estimators\n",
    "        self.max_features = int(max_features)\n",
    "        self.bootstrap = bootstrap\n",
    "        self.trees = []\n",
    "\n",
    "    def build_forest(self, X, y):\n",
    "        for i in range(self.n_estimators):\n",
    "            random_attributes = np.random.choice(X.columns, size=self.max_features, replace=False)\n",
    "            X_train = X[random_attributes]\n",
    "            y_train = y\n",
    "\n",
    "            if self.bootstrap:\n",
    "                X_train = X_train.sample(frac=0.7, replace=False)\n",
    "                y_train = y_train[X_train.index]\n",
    "            \n",
    "            tree = DecisionTree(criterion='gini', max_depth=None)\n",
    "            tree.fit(X_train, y_train)\n",
    "            self.trees.append(tree)\n",
    "\n",
    "    def predict(self, X):\n",
    "        predictions = []\n",
    "        voting_results = []\n",
    "        \n",
    "        for tree in self.trees:\n",
    "            prediction = tree.predict(X)\n",
    "            predictions.append(prediction)\n",
    "\n",
    "        predictions = np.array(predictions)\n",
    "        for i in range(len(X)):\n",
    "            value, counts = np.unique(predictions[:, i], return_counts=True)\n",
    "            voting = value[np.argmax(counts)]\n",
    "            voting_results.append(voting)\n",
    "\n",
    "        return np.array(voting_results)\n",
    "\n",
    "# clf_10tree = RandomForest(n_estimators=10, max_features=np.sqrt(len(X_train.columns)))\n",
    "# clf_10tree.build_forest(X_train, y_train)"
   ]
  },
  {
   "cell_type": "code",
   "execution_count": 164,
   "metadata": {},
   "outputs": [],
   "source": [
    "clf_10tree = RandomForest(n_estimators=10, max_features=np.sqrt(len(X_train.columns)))\n",
    "clf_10tree.build_forest(X_train, y_train)"
   ]
  },
  {
   "cell_type": "code",
   "execution_count": 165,
   "metadata": {},
   "outputs": [
    {
     "name": "stdout",
     "output_type": "stream",
     "text": [
      "criterion=gini, max_depth=3, accuracy: 0.8247422680412371\n"
     ]
    }
   ],
   "source": [
    "print(\"criterion=gini, max_depth=3, accuracy:\", accuracy_score(clf_10tree.predict(X_test), y_test))"
   ]
  },
  {
   "cell_type": "markdown",
   "metadata": {},
   "source": [
    "### Question 5.1\n",
    "Using `criterion=gini`, `max_depth=None`, `max_features=sqrt(n_features)`, showing the accuracy score of test data by `n_estimators=10` and `n_estimators=100`, respectively.\n"
   ]
  },
  {
   "cell_type": "code",
   "execution_count": 176,
   "metadata": {},
   "outputs": [],
   "source": [
    "clf_10tree = RandomForest(n_estimators=10, max_features=np.sqrt(len(X_train.columns)))\n",
    "clf_100tree = RandomForest(n_estimators=100, max_features=np.sqrt(len(X_train.columns)))"
   ]
  },
  {
   "cell_type": "code",
   "execution_count": 177,
   "metadata": {},
   "outputs": [
    {
     "name": "stdout",
     "output_type": "stream",
     "text": [
      "n_estimators=10, max_features=sqrt(n_features), accuracy: 0.865979381443299\n",
      "n_estimators=100, max_features=sqrt(n_features), accuracy: 0.9072164948453608\n"
     ]
    }
   ],
   "source": [
    "clf_10tree.build_forest(X_train, y_train)\n",
    "print(\"n_estimators=10, max_features=sqrt(n_features), accuracy:\", accuracy_score(clf_10tree.predict(X_test), y_test))\n",
    "\n",
    "clf_100tree.build_forest(X_train, y_train)\n",
    "print(\"n_estimators=100, max_features=sqrt(n_features), accuracy:\", accuracy_score(clf_100tree.predict(X_test), y_test))"
   ]
  },
  {
   "cell_type": "markdown",
   "metadata": {},
   "source": [
    "### Question 5.2\n",
    "Using `criterion=gini`, `max_depth=None`, `n_estimators=10`, showing the accuracy score of test data by `max_features=sqrt(n_features)` and `max_features=n_features`, respectively.\n"
   ]
  },
  {
   "cell_type": "code",
   "execution_count": 13,
   "metadata": {},
   "outputs": [],
   "source": [
    "clf_random_features = RandomForest(n_estimators=10, max_features=np.sqrt(len(X_train.columns)))\n",
    "clf_all_features = RandomForest(n_estimators=10, max_features=len(X_train.columns))"
   ]
  },
  {
   "cell_type": "markdown",
   "metadata": {},
   "source": [
    "- Note: Use majority votes to get the final prediction, you may get slightly different results when re-building the random forest model"
   ]
  },
  {
   "cell_type": "code",
   "execution_count": null,
   "metadata": {},
   "outputs": [],
   "source": [
    "clf_random_features.build_forest(X_train, y_train)\n",
    "print(\"n_estimators=10, max_features=sqrt(n_features), accuracy:\", accuracy_score(clf_random_features.predict(X_test), y_test))\n",
    "\n",
    "clf_all_features.build_forest(X_train, y_train)\n",
    "print(\"n_estimators=10, max_features=n_features, accuracy:\", accuracy_score(clf_all_features.predict(X_test), y_test))"
   ]
  },
  {
   "cell_type": "markdown",
   "metadata": {},
   "source": [
    "### Question 6.\n",
    "Try you best to get highest test accuracy score by \n",
    "- Feature engineering\n",
    "- Hyperparameter tuning\n",
    "- Implement any other ensemble methods, such as gradient boosting. Please note that you cannot call any package. Also, only ensemble method can be used. Neural network method is not allowed to used."
   ]
  },
  {
   "cell_type": "code",
   "execution_count": null,
   "metadata": {},
   "outputs": [],
   "source": [
    "from sklearn.metrics import accuracy_score"
   ]
  },
  {
   "cell_type": "code",
   "execution_count": 4,
   "metadata": {},
   "outputs": [],
   "source": [
    "y_test = test_df['target']"
   ]
  },
  {
   "cell_type": "code",
   "execution_count": null,
   "metadata": {},
   "outputs": [],
   "source": [
    "y_pred = your_model.predict(x_test)"
   ]
  },
  {
   "cell_type": "code",
   "execution_count": null,
   "metadata": {},
   "outputs": [],
   "source": [
    "print('Test-set accuarcy score: ', accuracy_score(y_test, y_pred))"
   ]
  },
  {
   "cell_type": "markdown",
   "metadata": {},
   "source": [
    "## Supplementary\n",
    "If you have trouble to implement this homework, TA strongly recommend watching [this video](https://www.youtube.com/watch?v=LDRbO9a6XPU), which explains Decision Tree model clearly. But don't copy code from any resources, try to finish this homework by yourself! "
   ]
  },
  {
   "cell_type": "code",
   "execution_count": null,
   "metadata": {},
   "outputs": [],
   "source": []
  }
 ],
 "metadata": {
  "kernelspec": {
   "display_name": "Python 3 (ipykernel)",
   "language": "python",
   "name": "python3"
  },
  "language_info": {
   "codemirror_mode": {
    "name": "ipython",
    "version": 3
   },
   "file_extension": ".py",
   "mimetype": "text/x-python",
   "name": "python",
   "nbconvert_exporter": "python",
   "pygments_lexer": "ipython3",
   "version": "3.7.3"
  }
 },
 "nbformat": 4,
 "nbformat_minor": 4
}
